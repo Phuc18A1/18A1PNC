{
 "cells": [
  {
   "cell_type": "markdown",
   "id": "ef980779",
   "metadata": {},
   "source": [
    "BÀI TẬP CHƯƠNG 1\n",
    "\n",
    "BÀI1"
   ]
  },
  {
   "cell_type": "code",
   "execution_count": 48,
   "id": "dca23ebe",
   "metadata": {},
   "outputs": [],
   "source": [
    "class chunhat:\n",
    "    def __init__(self,dai=0,rong=0):\n",
    "        self.dai=dai\n",
    "        self.rong=rong\n",
    "    def nhap(self):\n",
    "        self.dai=float(input('nhap chieu dai chu nhat: '))\n",
    "        self.rong=float(input('nhap chieu rong chu nhat:'))\n",
    "\n",
    "    def chuvi(self):\n",
    "        return (self.dai + self.rong)*2\n",
    "    def dientich(self):\n",
    "        return(self.dai * self.rong)\n",
    "    def xuat(self):\n",
    "        print('\\n---thong tin hinh chu nhat---')\n",
    "        print(f'chieudai:{self.dai}')\n",
    "        print(f'chieu rong: {self.rong}')\n",
    "        print(f'chu vi: {self.chuvi()}')\n",
    "        print(f'dien tich: {self.dientich()}')\n",
    "\n"
   ]
  },
  {
   "cell_type": "code",
   "execution_count": 49,
   "id": "27b3eed3",
   "metadata": {},
   "outputs": [
    {
     "name": "stdout",
     "output_type": "stream",
     "text": [
      "\n",
      "---thong tin hinh chu nhat---\n",
      "chieudai:4.0\n",
      "chieu rong: 3.0\n",
      "chu vi: 14.0\n",
      "dien tich: 12.0\n"
     ]
    }
   ],
   "source": [
    "if __name__==\"__main__\":\n",
    "    cn=chunhat()\n",
    "    cn.nhap()\n",
    "    cn.xuat()"
   ]
  },
  {
   "cell_type": "markdown",
   "id": "a83a2d58",
   "metadata": {},
   "source": [
    "BÀI 2"
   ]
  },
  {
   "cell_type": "code",
   "execution_count": 50,
   "id": "4bee352c",
   "metadata": {},
   "outputs": [],
   "source": [
    "class sinhvien:\n",
    "    def __int__(self,hoten,toan,ly,hoa):\n",
    "        self.hoten=hoten\n",
    "        self.toan=toan\n",
    "        self.ly=ly\n",
    "        self.hoa=hoa\n",
    "    def nhap(self):\n",
    "        self.hoten=input('nhap ho va ten thi sinh: ')\n",
    "        self.toan=float(input('nhap diem toan cua sinh vien: '))\n",
    "        self.ly=float(input('nhap diem ly cua sinh vien: '))\n",
    "        self.hoa=float(input('nhap diem hoa cua thi sinh: '))\n",
    "    def tong(self):\n",
    "        return(self.toan + self.ly + self.hoa)\n",
    "    def xuat(self):\n",
    "        print(f\"{self.hoten:20} | Toán: {self.toan:4.1f} | Lý: {self.ly:4.1f} | Hóa: {self.hoa:4.1f} | Tổng: {self.tong():5.1f}\")\n"
   ]
  },
  {
   "cell_type": "code",
   "execution_count": 51,
   "id": "59db5a35",
   "metadata": {},
   "outputs": [
    {
     "name": "stdout",
     "output_type": "stream",
     "text": [
      "\n",
      "===nhap danh sach thi sinh===\n",
      "\n",
      "thi dinh 1:\n",
      "\n",
      "thi dinh 2:\n",
      "\n",
      "thi dinh 3:\n",
      "\n",
      "=== DANH SÁCH THÍ SINH ===\n",
      "r                    | Toán:  7.0 | Lý:  3.0 | Hóa:  6.0 | Tổng:  16.0\n",
      "r                    | Toán:  5.0 | Lý:  3.0 | Hóa:  7.0 | Tổng:  15.0\n",
      "e                    | Toán:  4.0 | Lý:  5.0 | Hóa:  4.0 | Tổng:  13.0\n",
      "\n",
      "=== DANH SÁCH TRÚNG TUYỂN (điểm chuẩn 5.0) ===\n",
      "r                    | Toán:  7.0 | Lý:  3.0 | Hóa:  6.0 | Tổng:  16.0\n",
      "r                    | Toán:  5.0 | Lý:  3.0 | Hóa:  7.0 | Tổng:  15.0\n",
      "e                    | Toán:  4.0 | Lý:  5.0 | Hóa:  4.0 | Tổng:  13.0\n"
     ]
    }
   ],
   "source": [
    "if __name__=='__main__':\n",
    "    ds=[]\n",
    "    n=int(input('nhap so luong thi sinh: '))\n",
    "    print('\\n===nhap danh sach thi sinh===')\n",
    "    for i in range(n):\n",
    "        print(f'\\nthi dinh {i+1}:')\n",
    "        ts=sinhvien()\n",
    "        ts.nhap()\n",
    "        ds.append(ts)\n",
    "diemchuan=float(input('\\nnhap diem chuan: '))\n",
    "ds.sort(key=lambda x: x.tong(), reverse=True)\n",
    "print(\"\\n=== DANH SÁCH THÍ SINH ===\")\n",
    "for ts in ds:\n",
    "    ts.xuat()\n",
    "\n",
    "print(f\"\\n=== DANH SÁCH TRÚNG TUYỂN (điểm chuẩn {diemchuan}) ===\")\n",
    "for ts in ds:\n",
    "    if ts.tong() >= diemchuan:\n",
    "            ts.xuat()"
   ]
  },
  {
   "cell_type": "markdown",
   "id": "28094cd0",
   "metadata": {},
   "source": [
    "BÀI 3"
   ]
  },
  {
   "cell_type": "code",
   "execution_count": 73,
   "id": "8016863e",
   "metadata": {},
   "outputs": [],
   "source": [
    "class PhanSo:\n",
    "    def __init__(self, tu=0, mau=1):\n",
    "        self.tu = tu\n",
    "        self.mau = mau if mau != 0 else 1\n",
    "\n",
    "    def nhap(self):\n",
    "        self.tu = int(input(\"Nhập tử số: \"))\n",
    "        self.mau = int(input(\"Nhập mẫu số: \"))\n",
    "        while self.mau == 0:\n",
    "            print(\" Mẫu số không được bằng 0. Nhập lại!\")\n",
    "            self.mau = int(input(\"Nhập mẫu số: \"))\n",
    "\n",
    "    def hop_le(self):\n",
    "        # kiểm tra phân số có hợp lệ không (mẫu khác 0)\n",
    "        return self.mau != 0\n",
    "\n",
    "    def __str__(self):\n",
    "        # trả về dạng hiển thị đẹp của phân số\n",
    "        return f\"{self.tu}/{self.mau}\"\n"
   ]
  },
  {
   "cell_type": "code",
   "execution_count": 74,
   "id": "f2350862",
   "metadata": {},
   "outputs": [
    {
     "name": "stdout",
     "output_type": "stream",
     "text": [
      "Nhập phân số:\n",
      " Phân số hợp lệ!\n",
      "Phân số vừa nhập là: 2/3\n"
     ]
    }
   ],
   "source": [
    "if __name__ == \"__main__\":\n",
    "    ps = PhanSo()\n",
    "    print(\"Nhập phân số:\")\n",
    "    ps.nhap()\n",
    "\n",
    "    if ps.hop_le():\n",
    "        print(\" Phân số hợp lệ!\")\n",
    "        print(\"Phân số vừa nhập là:\", ps)\n",
    "    else:\n",
    "        print(\" Phân số không hợp lệ!\")"
   ]
  },
  {
   "cell_type": "markdown",
   "id": "359af69d",
   "metadata": {},
   "source": [
    "BÀI 4"
   ]
  },
  {
   "cell_type": "code",
   "execution_count": 54,
   "id": "cd66e6be",
   "metadata": {},
   "outputs": [],
   "source": [
    "class Stack:\n",
    "    def __init__(self, size):\n",
    "        self.size = size\n",
    "        self.data = []\n",
    "\n",
    "    def isEmpty(self):\n",
    "        return len(self.data) == 0\n",
    "\n",
    "    def isFull(self):\n",
    "        return len(self.data) == self.size\n",
    "\n",
    "    def push(self, value):\n",
    "        if not self.isFull():\n",
    "            self.data.append(value)\n",
    "        else:\n",
    "            print(\" Ngăn xếp đã đầy!\")\n",
    "\n",
    "    def pop(self):\n",
    "        if not self.isEmpty():\n",
    "            return self.data.pop()\n",
    "        else:\n",
    "            print(\" Ngăn xếp rỗng!\")\n",
    "            return None"
   ]
  },
  {
   "cell_type": "code",
   "execution_count": 55,
   "id": "afc47fb4",
   "metadata": {},
   "outputs": [
    {
     "name": "stdout",
     "output_type": "stream",
     "text": [
      " Ngăn xếp đã đầy!\n",
      "30\n",
      "20\n",
      "10\n",
      " Ngăn xếp rỗng!\n",
      "None\n"
     ]
    }
   ],
   "source": [
    "st = Stack(3)\n",
    "st.push(10)\n",
    "st.push(20)\n",
    "st.push(30)\n",
    "st.push(40)     \n",
    "print(st.pop()) \n",
    "print(st.pop()) \n",
    "print(st.pop()) \n",
    "print(st.pop()) "
   ]
  },
  {
   "cell_type": "markdown",
   "id": "171f913d",
   "metadata": {},
   "source": [
    "BÀI 5"
   ]
  },
  {
   "cell_type": "code",
   "execution_count": 56,
   "id": "cea67946",
   "metadata": {},
   "outputs": [],
   "source": [
    "class Stack:\n",
    "    def __init__(self, n=10):\n",
    "        self.data = []\n",
    "        self.n = n\n",
    "\n",
    "    def isEmpty(self): return len(self.data) == 0\n",
    "    def isFull(self): return len(self.data) == self.n\n",
    "\n",
    "    def push(self, x):\n",
    "        if not self.isFull(): self.data.append(float(x))\n",
    "        else: print(\"Ngăn xếp đầy!\")\n",
    "\n",
    "    def pop(self):\n",
    "        if not self.isEmpty(): return self.data.pop()\n",
    "        else: print(\"Ngăn xếp rỗng!\")\n",
    "\n",
    "    def count(self):   # Bài 5\n",
    "        return len(self.data)"
   ]
  },
  {
   "cell_type": "code",
   "execution_count": 57,
   "id": "cf393011",
   "metadata": {},
   "outputs": [
    {
     "name": "stdout",
     "output_type": "stream",
     "text": [
      "Số phần tử: 2\n"
     ]
    }
   ],
   "source": [
    "s = Stack(5)\n",
    "s.push(2.3)\n",
    "s.push(5)\n",
    "print(\"Số phần tử:\", s.count())"
   ]
  },
  {
   "cell_type": "markdown",
   "id": "b534d8d3",
   "metadata": {},
   "source": [
    "BÀI6"
   ]
  },
  {
   "cell_type": "code",
   "execution_count": 58,
   "id": "5c6dec83",
   "metadata": {},
   "outputs": [],
   "source": [
    "class Stack:\n",
    "    def __init__(self, n=10):\n",
    "        self.data = []\n",
    "        self.n = n\n",
    "\n",
    "    def isEmpty(self): return len(self.data) == 0\n",
    "    def isFull(self): return len(self.data) == self.n\n",
    "\n",
    "    def push(self, x):\n",
    "        if not self.isFull(): self.data.append(float(x))\n",
    "        else: print(\"Ngăn xếp đầy!\")\n",
    "\n",
    "    def pop(self):\n",
    "        if not self.isEmpty(): return self.data.pop()\n",
    "        else: print(\"Ngăn xếp rỗng!\")\n",
    "\n",
    "    def print_stack(self):   # Bài 6\n",
    "        print(\"Nội dung ngăn xếp:\", self.data[::-1])"
   ]
  },
  {
   "cell_type": "code",
   "execution_count": 59,
   "id": "ecf8da2e",
   "metadata": {},
   "outputs": [
    {
     "name": "stdout",
     "output_type": "stream",
     "text": [
      "Nội dung ngăn xếp: [7.0, 3.5, 1.0]\n"
     ]
    }
   ],
   "source": [
    "s = Stack(5)\n",
    "s.push(1)\n",
    "s.push(3.5)\n",
    "s.push(7)\n",
    "s.print_stack()"
   ]
  },
  {
   "cell_type": "markdown",
   "id": "3955ee25",
   "metadata": {},
   "source": [
    "BÀI 7"
   ]
  },
  {
   "cell_type": "code",
   "execution_count": 60,
   "id": "afddeb6f",
   "metadata": {},
   "outputs": [],
   "source": [
    "class Date:\n",
    "    def __init__(self, day=1, month=1, year=2000):\n",
    "        self.day = day\n",
    "        self.month = month\n",
    "        self.year = year\n",
    "\n",
    "    def display(self):\n",
    "        print(f\"{self.day:02d}/{self.month:02d}/{self.year}\")\n",
    "\n",
    "    def next_day(self):\n",
    "        self.day += 1\n",
    "        if self.day > 30:\n",
    "            self.day = 1\n",
    "            self.month += 1\n",
    "            if self.month > 12:\n",
    "                self.month = 1\n",
    "                self.year += 1\n",
    "\n"
   ]
  },
  {
   "cell_type": "code",
   "execution_count": 61,
   "id": "7184957a",
   "metadata": {},
   "outputs": [
    {
     "name": "stdout",
     "output_type": "stream",
     "text": [
      "30/12/2024\n",
      "01/01/2025\n"
     ]
    }
   ],
   "source": [
    "d = Date(30, 12, 2024)\n",
    "d.display()      \n",
    "d.next_day()\n",
    "d.display()      "
   ]
  },
  {
   "cell_type": "markdown",
   "id": "ba92d309",
   "metadata": {},
   "source": [
    "BÀI 8"
   ]
  },
  {
   "cell_type": "code",
   "execution_count": 62,
   "id": "14d849a0",
   "metadata": {},
   "outputs": [],
   "source": [
    "class Employee:\n",
    "    def __init__(self, name:str, birth:Date, hire:Date):\n",
    "        self.name = name\n",
    "        self.birth = birth\n",
    "        self.hire = hire\n",
    "\n",
    "    def display(self):\n",
    "        print(\"Tên:\", self.name)\n",
    "        print(\"Ngày sinh:\", end=\" \"); self.birth.display()\n",
    "        print(\"Ngày vào công ty:\", end=\" \"); self.hire.display()"
   ]
  },
  {
   "cell_type": "code",
   "execution_count": 63,
   "id": "453617d3",
   "metadata": {},
   "outputs": [
    {
     "name": "stdout",
     "output_type": "stream",
     "text": [
      "Tên: Nguyễn Văn A\n",
      "Ngày sinh: 05/08/2006\n",
      "Ngày vào công ty: 05/08/2025\n"
     ]
    }
   ],
   "source": [
    "birth = Date(5, 8, 2006)\n",
    "hire = Date(5, 8, 2025)\n",
    "nv = Employee(\"Nguyễn Văn A\", birth, hire)\n",
    "nv.display()"
   ]
  },
  {
   "cell_type": "markdown",
   "id": "2dd474f2",
   "metadata": {},
   "source": [
    "BÀI 9"
   ]
  },
  {
   "cell_type": "code",
   "execution_count": 64,
   "id": "77c083bc",
   "metadata": {},
   "outputs": [],
   "source": [
    "import math\n",
    "\n",
    "# Lớp cha: Đa giác\n",
    "class DaGiac:\n",
    "    def __init__(self, *canh):\n",
    "        self.canh = list(canh)\n",
    "\n",
    "    def chu_vi(self):\n",
    "        return sum(self.canh)\n",
    "\n",
    "# Lớp con: Tam giác\n",
    "class TamGiac(DaGiac):\n",
    "    def __init__(self, a, b, c):\n",
    "        super().__init__(a, b, c)\n",
    "\n",
    "    def hop_le(self):\n",
    "        a, b, c = self.canh\n",
    "        return a + b > c and a + c > b and b + c > a\n",
    "\n",
    "    def dien_tich(self):\n",
    "        if not self.hop_le():\n",
    "            return 0\n",
    "        p = self.chu_vi() / 2\n",
    "        a, b, c = self.canh\n",
    "        return math.sqrt(p * (p - a) * (p - b) * (p - c))"
   ]
  },
  {
   "cell_type": "code",
   "execution_count": 65,
   "id": "e78c4d87",
   "metadata": {},
   "outputs": [
    {
     "name": "stdout",
     "output_type": "stream",
     "text": [
      "Chu vi: 12\n",
      "Diện tích: 6.0\n"
     ]
    }
   ],
   "source": [
    "tg = TamGiac(3, 4, 5)\n",
    "if tg.hop_le():\n",
    "    print(\"Chu vi:\", tg.chu_vi())\n",
    "    print(\"Diện tích:\", round(tg.dien_tich(), 2))\n",
    "else:\n",
    "    print(\"Ba cạnh không tạo thành tam giác!\")"
   ]
  },
  {
   "cell_type": "markdown",
   "id": "6560591c",
   "metadata": {},
   "source": [
    "BÀI 10"
   ]
  },
  {
   "cell_type": "code",
   "execution_count": 66,
   "id": "f34a16f2",
   "metadata": {},
   "outputs": [],
   "source": [
    "# Lớp cha: Đa giác\n",
    "class DaGiac:\n",
    "    def __init__(self, *canh):\n",
    "        self.canh = list(canh)\n",
    "\n",
    "    def chu_vi(self):\n",
    "        return sum(self.canh)\n",
    "\n",
    "# Lớp con: Tứ giác\n",
    "class TuGiac(DaGiac):\n",
    "    def __init__(self, a, b, c, d):\n",
    "        super().__init__(a, b, c, d)\n",
    "\n",
    "    def hop_le(self):\n",
    "        # 4 cạnh hợp lệ nếu cạnh lớn nhất nhỏ hơn tổng 3 cạnh còn lại\n",
    "        a, b, c, d = self.canh\n",
    "        return max(a, b, c, d) < (a + b + c + d - max(a, b, c, d))\n",
    "\n",
    "    def dien_tich(self):\n",
    "        a, b, c, d = self.canh\n",
    "        # Nếu là hình chữ nhật (2 cặp cạnh bằng nhau)\n",
    "        if a == c and b == d:\n",
    "            return a * b\n",
    "        # Nếu là hình vuông\n",
    "        elif a == b == c == d:\n",
    "            return a * a\n",
    "        else:\n",
    "            return 0  # không tính được diện tích nếu không phải hình đặc biệt"
   ]
  },
  {
   "cell_type": "code",
   "execution_count": 67,
   "id": "3726025f",
   "metadata": {},
   "outputs": [
    {
     "name": "stdout",
     "output_type": "stream",
     "text": [
      "Chu vi: 14\n",
      "Diện tích: 12\n"
     ]
    }
   ],
   "source": [
    "tg = TuGiac(3, 4, 3, 4)\n",
    "if tg.hop_le():\n",
    "    print(\"Chu vi:\", tg.chu_vi())\n",
    "    print(\"Diện tích:\", tg.dien_tich())\n",
    "else:\n",
    "    print(\"Tứ giác không hợp lệ!\")\n"
   ]
  },
  {
   "cell_type": "markdown",
   "id": "6de6d418",
   "metadata": {},
   "source": [
    "Bài 11"
   ]
  },
  {
   "cell_type": "code",
   "execution_count": 68,
   "id": "7d79ad61",
   "metadata": {},
   "outputs": [],
   "source": [
    "import math\n",
    "\n",
    "\n",
    "class Triangle:\n",
    "    def __init__(self, a, b, c):\n",
    "        self.a = a\n",
    "        self.b = b\n",
    "        self.c = c\n",
    "\n",
    "    def is_valid(self):\n",
    "        \"\"\"Kiểm tra tam giác hợp lệ\"\"\"\n",
    "        return (self.a + self.b > self.c and\n",
    "                self.a + self.c > self.b and\n",
    "                self.b + self.c > self.a)\n",
    "\n",
    "    def perimeter(self):\n",
    "        \"\"\"Tính chu vi\"\"\"\n",
    "        return self.a + self.b + self.c\n",
    "\n",
    "    def area(self):\n",
    "        \"\"\"Tính diện tích theo công thức Heron\"\"\"\n",
    "        s = self.perimeter() / 2\n",
    "        return math.sqrt(s * (s - self.a) * (s - self.b) * (s - self.c))\n",
    "\n",
    "    def display(self):\n",
    "        print(f\"Ba cạnh: a={self.a}, b={self.b}, c={self.c}\")\n",
    "        if self.is_valid():\n",
    "            print(f\"→ Chu vi: {self.perimeter():.2f}\")\n",
    "            print(f\"→ Diện tích: {self.area():.2f}\")\n",
    "        else:\n",
    "            print(\" Tam giác không hợp lệ.\")\n",
    "\n",
    "\n",
    "\n",
    "class RightTriangle(Triangle):\n",
    "    def __init__(self, a, b):\n",
    "        \"\"\"Tam giác vuông với 2 cạnh góc vuông a, b\"\"\"\n",
    "        c = math.sqrt(a**2 + b**2)\n",
    "        super().__init__(a, b, c)\n",
    "\n",
    "    def display(self):\n",
    "        print(\" Tam giác vuông:\")\n",
    "        super().display()\n",
    "\n",
    "\n",
    "class IsoscelesTriangle(Triangle):\n",
    "    def __init__(self, a, b):\n",
    "        \"\"\"Tam giác cân với hai cạnh bên bằng a và cạnh đáy b\"\"\"\n",
    "        super().__init__(a, a, b)\n",
    "\n",
    "    def display(self):\n",
    "        print(\" Tam giác cân:\")\n",
    "        super().display()\n",
    "\n",
    "\n",
    "\n",
    "class EquilateralTriangle(IsoscelesTriangle):\n",
    "    def __init__(self, a):\n",
    "        \"\"\"Tam giác đều có 3 cạnh bằng nhau\"\"\"\n",
    "        super().__init__(a, a)\n",
    "\n",
    "    def display(self):\n",
    "        print(\" Tam giác đều:\")\n",
    "        super().display()"
   ]
  },
  {
   "cell_type": "code",
   "execution_count": 69,
   "id": "dd52206a",
   "metadata": {},
   "outputs": [
    {
     "name": "stdout",
     "output_type": "stream",
     "text": [
      "=== Tam giác chung ===\n",
      "Ba cạnh: a=3, b=4, c=5\n",
      "→ Chu vi: 12.00\n",
      "→ Diện tích: 6.00\n",
      "\n",
      "=== Tam giác vuông ===\n",
      " Tam giác vuông:\n",
      "Ba cạnh: a=3, b=4, c=5.0\n",
      "→ Chu vi: 12.00\n",
      "→ Diện tích: 6.00\n",
      "\n",
      "=== Tam giác cân ===\n",
      " Tam giác cân:\n",
      "Ba cạnh: a=5, b=5, c=6\n",
      "→ Chu vi: 16.00\n",
      "→ Diện tích: 12.00\n",
      "\n",
      "=== Tam giác đều ===\n",
      " Tam giác đều:\n",
      " Tam giác cân:\n",
      "Ba cạnh: a=4, b=4, c=4\n",
      "→ Chu vi: 12.00\n",
      "→ Diện tích: 6.93\n"
     ]
    }
   ],
   "source": [
    "if __name__ == \"__main__\":\n",
    "    print(\"=== Tam giác chung ===\")\n",
    "    tg = Triangle(3, 4, 5)\n",
    "    tg.display()\n",
    "\n",
    "    print(\"\\n=== Tam giác vuông ===\")\n",
    "    rt = RightTriangle(3, 4,)\n",
    "    rt.display()\n",
    "\n",
    "    print(\"\\n=== Tam giác cân ===\")\n",
    "    it = IsoscelesTriangle(5, 6)\n",
    "    it.display()\n",
    "\n",
    "    print(\"\\n=== Tam giác đều ===\")\n",
    "    et = EquilateralTriangle(4)\n",
    "    et.display()"
   ]
  }
 ],
 "metadata": {
  "kernelspec": {
   "display_name": "Python 3",
   "language": "python",
   "name": "python3"
  },
  "language_info": {
   "codemirror_mode": {
    "name": "ipython",
    "version": 3
   },
   "file_extension": ".py",
   "mimetype": "text/x-python",
   "name": "python",
   "nbconvert_exporter": "python",
   "pygments_lexer": "ipython3",
   "version": "3.13.0"
  }
 },
 "nbformat": 4,
 "nbformat_minor": 5
}
