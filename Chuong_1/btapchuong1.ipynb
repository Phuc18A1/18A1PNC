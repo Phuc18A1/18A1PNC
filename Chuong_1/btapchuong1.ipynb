{
 "cells": [
  {
   "cell_type": "markdown",
   "id": "ef980779",
   "metadata": {},
   "source": [
    "BÀI TẬP CHƯƠNG 1\n",
    "\n",
    "BÀI1"
   ]
  },
  {
   "cell_type": "code",
   "execution_count": 4,
   "id": "dca23ebe",
   "metadata": {},
   "outputs": [
    {
     "name": "stdout",
     "output_type": "stream",
     "text": [
      "Chiều dài: 5.0, Chiều rộng: 3.0, Chu vi: 16.00, Diện tích: 15.00\n"
     ]
    }
   ],
   "source": [
    "class HCN:\n",
    "    def __init__(self, dai: float = 5, rong: float = 3):\n",
    "        self.dai = float(dai)\n",
    "        self.rong = float(rong)\n",
    "\n",
    "    def chuvi (self):\n",
    "        return (self.dai + self.rong)*2\n",
    "    def dientich (self):\n",
    "        return self.dai*self.rong\n",
    "    \n",
    "    def display (self):\n",
    "         print(f\"Chiều dài: {self.dai}, Chiều rộng: {self.rong}, Chu vi: {self.chuvi():.2f}, Diện tích: {self.dientich():.2f}\")\n",
    "\n",
    "hcn = HCN()\n",
    "hcn.display()"
   ]
  },
  {
   "cell_type": "code",
   "execution_count": null,
   "id": "27b3eed3",
   "metadata": {},
   "outputs": [],
   "source": [
    "dai = float(input(\"Nhập chiều dài: \"))\n",
    "rong = float(input(\"Nhập chiều rộng: \"))\n",
    "\n",
    "hcn = HCN(dai, rong)\n",
    "hcn.display()"
   ]
  },
  {
   "cell_type": "markdown",
   "id": "a83a2d58",
   "metadata": {},
   "source": [
    "BÀI 2"
   ]
  },
  {
   "cell_type": "code",
   "execution_count": null,
   "id": "4bee352c",
   "metadata": {},
   "outputs": [
    {
     "name": "stdout",
     "output_type": "stream",
     "text": [
      "Họ tên: NHAN, Toán: 10.0, Lý: 10.0, Hóa: 90.0, Tổng: 110.00\n"
     ]
    }
   ],
   "source": [
    "class TS:\n",
    "    def __init__(self, hoten=\"\", toan=0, ly=0, hoa=0):\n",
    "        self.hoten = hoten\n",
    "        self.toan = float(toan)\n",
    "        self.ly = float(ly)\n",
    "        self.hoa = float(hoa)\n",
    "\n",
    "    # Pt nhập thông tin ts\n",
    "    def nhap(self):\n",
    "        self.hoten = input(\"Nhập họ tên thí sinh: \")\n",
    "        self.toan = float(input(\"Nhập điểm Toán: \"))\n",
    "        self.ly = float(input(\"Nhập điểm Lý: \"))\n",
    "        self.hoa = float(input(\"Nhập điểm Hóa: \"))\n",
    "\n",
    "    # Pt tính tổng điểm\n",
    "    def tongdiem(self):\n",
    "        return self.toan + self.ly + self.hoa\n",
    "\n",
    "    # Pt hiển thị thông tin ts\n",
    "    def display(self):\n",
    "        print(f\"Họ tên: {self.hoten}, Toán: {self.toan}, Lý: {self.ly}, Hóa: {self.hoa}, Tổng: {self.tongdiem():.2f}\")\n",
    "\n",
    "thisinh = TS()\n",
    "thisinh.nhap()\n",
    "thisinh.display()\n"
   ]
  },
  {
   "cell_type": "code",
   "execution_count": null,
   "id": "59db5a35",
   "metadata": {},
   "outputs": [],
   "source": [
    "# Nhập họ tên và điểm ds thí sinh\n",
    "ds_thi_sinh = [\n",
    "    TS(\"Nguyễn Văn A\", 8.0, 7.5, 6.5),\n",
    "    TS(\"Trần Thị B\", 9.0, 8.0, 7.0),\n",
    "    TS(\"Lê Văn C\", 6.0, 6.5, 5.0)\n",
    "]\n",
    "\n",
    "# Sx ds theo tổng điểm giảm dần\n",
    "ds_thi_sinh.sort(key=lambda ts: ts.tongdiem(), reverse=True)\n",
    "\n",
    "# Gthiet điểm chuẩn là 20\n",
    "diem_chuan = 20\n",
    "for ts in ds_thi_sinh:\n",
    "    if ts.tongdiem() >= diem_chuan:\n",
    "        ts.display()"
   ]
  },
  {
   "cell_type": "markdown",
   "id": "28094cd0",
   "metadata": {},
   "source": [
    "BÀI 3"
   ]
  },
  {
   "cell_type": "code",
   "execution_count": null,
   "id": "8016863e",
   "metadata": {},
   "outputs": [],
   "source": [
    "class PS:\n",
    "    def __init__(self, tu:int, mau:int):\n",
    "        self.tu = tu\n",
    "        self.mau = mau\n",
    "\n",
    "    def nhap(self):\n",
    "        self.tu = int(input(\"Nhập tử số: \"))\n",
    "        self.mau = int(input(\"Nhập mẫu số: \"))\n",
    "\n",
    "    def display(self):\n",
    "        print(f\"Phân số: {self.tu}/{self.mau}\")"
   ]
  },
  {
   "cell_type": "code",
   "execution_count": null,
   "id": "f2350862",
   "metadata": {},
   "outputs": [
    {
     "name": "stdout",
     "output_type": "stream",
     "text": [
      "Phân số: 1/2\n"
     ]
    }
   ],
   "source": [
    "ps1 = PS(1, 2)\n",
    "ps1.display()"
   ]
  },
  {
   "cell_type": "markdown",
   "id": "359af69d",
   "metadata": {},
   "source": [
    "BÀI 4"
   ]
  },
  {
   "cell_type": "code",
   "execution_count": null,
   "id": "cd66e6be",
   "metadata": {},
   "outputs": [],
   "source": [
    "class Stack:\n",
    "    #Đại diện cho một ngăn xếp (Stack) lưu kiểu float\n",
    "    def __init__(self, size:int):\n",
    "        \"\"\"Khởi tạo ngăn xếp có kích thước size.\"\"\"\n",
    "        self.size = size\n",
    "        self.stack = [0.0] * size\n",
    "        self.top = -1\n",
    "\n",
    "    def push(self, value:float):\n",
    "        #Đưa phần tử vào đỉnh ngăn xếp.\n",
    "        self.top += 1\n",
    "        self.stack[self.top] = value\n",
    "\n",
    "    def pop(self):\n",
    "        #Lấy phần tử ra khỏi đỉnh ngăn xếp\n",
    "        value = self.stack[self.top]\n",
    "        self.top -= 1\n",
    "        return value\n",
    "\n",
    "    def isEmpty(self):\n",
    "        #Kiểm tra ngăn xếp trống\n",
    "        return self.top == -1\n",
    "\n",
    "    def isFull(self):\n",
    "        #Kiểm tra ngăn xếp đầy\n",
    "        return self.top == self.size - 1\n"
   ]
  },
  {
   "cell_type": "code",
   "execution_count": null,
   "id": "afc47fb4",
   "metadata": {},
   "outputs": [
    {
     "name": "stdout",
     "output_type": "stream",
     "text": [
      "20.0\n"
     ]
    }
   ],
   "source": [
    "st1 = Stack(3)\n",
    "st1.push(10.5)\n",
    "st1.push(20.0)\n",
    "print(st1.pop())"
   ]
  },
  {
   "cell_type": "markdown",
   "id": "171f913d",
   "metadata": {},
   "source": [
    "BÀI 5"
   ]
  },
  {
   "cell_type": "code",
   "execution_count": null,
   "id": "cea67946",
   "metadata": {},
   "outputs": [],
   "source": [
    "class Stack:\n",
    "    def __init__(self, n=10):\n",
    "        self.data = []\n",
    "        self.n = n\n",
    "\n",
    "    def isEmpty(self): return len(self.data) == 0\n",
    "    def isFull(self): return len(self.data) == self.n\n",
    "\n",
    "    def push(self, x):\n",
    "        if not self.isFull(): self.data.append(float(x))\n",
    "        else: print(\"Ngăn xếp đầy!\")\n",
    "\n",
    "    def pop(self):\n",
    "        if not self.isEmpty(): return self.data.pop()\n",
    "        else: print(\"Ngăn xếp rỗng!\")\n",
    "\n",
    "    def count(self):   # Bài 5\n",
    "        return len(self.data)"
   ]
  },
  {
   "cell_type": "code",
   "execution_count": null,
   "id": "cf393011",
   "metadata": {},
   "outputs": [
    {
     "name": "stdout",
     "output_type": "stream",
     "text": [
      "Số phần tử: 2\n"
     ]
    }
   ],
   "source": [
    "s = Stack(5)\n",
    "s.push(2.3)\n",
    "s.push(5)\n",
    "print(\"Số phần tử:\", s.count())"
   ]
  },
  {
   "cell_type": "markdown",
   "id": "b534d8d3",
   "metadata": {},
   "source": [
    "BÀI6"
   ]
  },
  {
   "cell_type": "code",
   "execution_count": null,
   "id": "5c6dec83",
   "metadata": {},
   "outputs": [],
   "source": [
    "class Stack:\n",
    "    def __init__(self, n=10):\n",
    "        self.data = []\n",
    "        self.n = n\n",
    "\n",
    "    def isEmpty(self): return len(self.data) == 0\n",
    "    def isFull(self): return len(self.data) == self.n\n",
    "\n",
    "    def push(self, x):\n",
    "        if not self.isFull(): self.data.append(float(x))\n",
    "        else: print(\"Ngăn xếp đầy!\")\n",
    "\n",
    "    def pop(self):\n",
    "        if not self.isEmpty(): return self.data.pop()\n",
    "        else: print(\"Ngăn xếp rỗng!\")\n",
    "\n",
    "    def print_stack(self):   # Bài 6\n",
    "        print(\"Nội dung ngăn xếp:\", self.data[::-1])"
   ]
  },
  {
   "cell_type": "code",
   "execution_count": null,
   "id": "ecf8da2e",
   "metadata": {},
   "outputs": [
    {
     "name": "stdout",
     "output_type": "stream",
     "text": [
      "Nội dung ngăn xếp: [7.0, 3.5, 1.0]\n"
     ]
    }
   ],
   "source": [
    "s = Stack(5)\n",
    "s.push(1)\n",
    "s.push(3.5)\n",
    "s.push(7)\n",
    "s.print_stack()"
   ]
  },
  {
   "cell_type": "markdown",
   "id": "3955ee25",
   "metadata": {},
   "source": [
    "BÀI 7"
   ]
  },
  {
   "cell_type": "code",
   "execution_count": null,
   "id": "afddeb6f",
   "metadata": {},
   "outputs": [],
   "source": [
    "class Date:\n",
    "    def __init__(self, day:int, month:int, year:int):\n",
    "        self.day = day\n",
    "        self.month = month\n",
    "        self.year = year\n",
    "\n",
    "    def display(self):\n",
    "        print(f\"{self.day:02d}/{self.month:02d}/{self.year}\")"
   ]
  },
  {
   "cell_type": "code",
   "execution_count": null,
   "id": "7184957a",
   "metadata": {},
   "outputs": [
    {
     "name": "stdout",
     "output_type": "stream",
     "text": [
      "05/08/2006\n"
     ]
    }
   ],
   "source": [
    "d1 = Date(5, 8, 2006)\n",
    "d1.display()\n",
    "\n",
    "#thiếu next"
   ]
  },
  {
   "cell_type": "markdown",
   "id": "ba92d309",
   "metadata": {},
   "source": [
    "BÀI 8"
   ]
  },
  {
   "cell_type": "code",
   "execution_count": null,
   "id": "14d849a0",
   "metadata": {},
   "outputs": [],
   "source": [
    "class Employee:\n",
    "    def __init__(self, name:str, birth:Date, hire:Date):\n",
    "        self.name = name\n",
    "        self.birth = birth\n",
    "        self.hire = hire\n",
    "\n",
    "    def display(self):\n",
    "        print(\"Tên:\", self.name)\n",
    "        print(\"Ngày sinh:\", end=\" \"); self.birth.display()\n",
    "        print(\"Ngày vào công ty:\", end=\" \"); self.hire.display()"
   ]
  },
  {
   "cell_type": "code",
   "execution_count": null,
   "id": "453617d3",
   "metadata": {},
   "outputs": [
    {
     "name": "stdout",
     "output_type": "stream",
     "text": [
      "Tên: Nguyễn Văn A\n",
      "Ngày sinh: 05/08/2006\n",
      "Ngày vào công ty: 05/08/2025\n"
     ]
    }
   ],
   "source": [
    "birth = Date(5, 8, 2006)\n",
    "hire = Date(5, 8, 2025)\n",
    "nv = Employee(\"Nguyễn Văn A\", birth, hire)\n",
    "nv.display()"
   ]
  },
  {
   "cell_type": "markdown",
   "id": "2dd474f2",
   "metadata": {},
   "source": [
    "BÀI 9"
   ]
  },
  {
   "cell_type": "code",
   "execution_count": null,
   "id": "77c083bc",
   "metadata": {},
   "outputs": [],
   "source": [
    "import math\n",
    "\n",
    "# Lớp cha: Đa giác\n",
    "class DaGiac:\n",
    "    def __init__(self, *canh):\n",
    "        self.canh = list(canh)\n",
    "\n",
    "    def chu_vi(self):\n",
    "        return sum(self.canh)\n",
    "\n",
    "# Lớp con: Tam giác\n",
    "class TamGiac(DaGiac):\n",
    "    def __init__(self, a, b, c):\n",
    "        super().__init__(a, b, c)\n",
    "\n",
    "    def hop_le(self):\n",
    "        a, b, c = self.canh\n",
    "        return a + b > c and a + c > b and b + c > a\n",
    "\n",
    "    def dien_tich(self):\n",
    "        if not self.hop_le():\n",
    "            return 0\n",
    "        p = self.chu_vi() / 2\n",
    "        a, b, c = self.canh\n",
    "        return math.sqrt(p * (p - a) * (p - b) * (p - c))"
   ]
  },
  {
   "cell_type": "code",
   "execution_count": null,
   "id": "e78c4d87",
   "metadata": {},
   "outputs": [
    {
     "name": "stdout",
     "output_type": "stream",
     "text": [
      "Chu vi: 12\n",
      "Diện tích: 6.0\n"
     ]
    }
   ],
   "source": [
    "tg = TamGiac(3, 4, 5)\n",
    "if tg.hop_le():\n",
    "    print(\"Chu vi:\", tg.chu_vi())\n",
    "    print(\"Diện tích:\", round(tg.dien_tich(), 2))\n",
    "else:\n",
    "    print(\"Ba cạnh không tạo thành tam giác!\")"
   ]
  },
  {
   "cell_type": "markdown",
   "id": "6560591c",
   "metadata": {},
   "source": [
    "BÀI 10"
   ]
  },
  {
   "cell_type": "code",
   "execution_count": null,
   "id": "f34a16f2",
   "metadata": {},
   "outputs": [],
   "source": [
    "# Lớp cha: Đa giác\n",
    "class DaGiac:\n",
    "    def __init__(self, *canh):\n",
    "        self.canh = list(canh)\n",
    "\n",
    "    def chu_vi(self):\n",
    "        return sum(self.canh)\n",
    "\n",
    "# Lớp con: Tứ giác\n",
    "class TuGiac(DaGiac):\n",
    "    def __init__(self, a, b, c, d):\n",
    "        super().__init__(a, b, c, d)\n",
    "\n",
    "    def hop_le(self):\n",
    "        # 4 cạnh hợp lệ nếu cạnh lớn nhất nhỏ hơn tổng 3 cạnh còn lại\n",
    "        a, b, c, d = self.canh\n",
    "        return max(a, b, c, d) < (a + b + c + d - max(a, b, c, d))\n",
    "\n",
    "    def dien_tich(self):\n",
    "        a, b, c, d = self.canh\n",
    "        # Nếu là hình chữ nhật (2 cặp cạnh bằng nhau)\n",
    "        if a == c and b == d:\n",
    "            return a * b\n",
    "        # Nếu là hình vuông\n",
    "        elif a == b == c == d:\n",
    "            return a * a\n",
    "        else:\n",
    "            return 0  # không tính được diện tích nếu không phải hình đặc biệt"
   ]
  },
  {
   "cell_type": "code",
   "execution_count": null,
   "id": "3726025f",
   "metadata": {},
   "outputs": [
    {
     "name": "stdout",
     "output_type": "stream",
     "text": [
      "Chu vi: 14\n",
      "Diện tích: 12\n"
     ]
    }
   ],
   "source": [
    "tg = TuGiac(3, 4, 3, 4)\n",
    "if tg.hop_le():\n",
    "    print(\"Chu vi:\", tg.chu_vi())\n",
    "    print(\"Diện tích:\", tg.dien_tich())\n",
    "else:\n",
    "    print(\"Tứ giác không hợp lệ!\")\n"
   ]
  },
  {
   "cell_type": "code",
   "execution_count": null,
   "id": "7d79ad61",
   "metadata": {},
   "outputs": [],
   "source": [
    "import math\n",
    "\n",
    "\n",
    "class Triangle:\n",
    "    def __init__(self, a, b, c):\n",
    "        self.a = a\n",
    "        self.b = b\n",
    "        self.c = c\n",
    "\n",
    "    def is_valid(self):\n",
    "        \"\"\"Kiểm tra tam giác hợp lệ\"\"\"\n",
    "        return (self.a + self.b > self.c and\n",
    "                self.a + self.c > self.b and\n",
    "                self.b + self.c > self.a)\n",
    "\n",
    "    def perimeter(self):\n",
    "        \"\"\"Tính chu vi\"\"\"\n",
    "        return self.a + self.b + self.c\n",
    "\n",
    "    def area(self):\n",
    "        \"\"\"Tính diện tích theo công thức Heron\"\"\"\n",
    "        s = self.perimeter() / 2\n",
    "        return math.sqrt(s * (s - self.a) * (s - self.b) * (s - self.c))\n",
    "\n",
    "    def display(self):\n",
    "        print(f\"Ba cạnh: a={self.a}, b={self.b}, c={self.c}\")\n",
    "        if self.is_valid():\n",
    "            print(f\"→ Chu vi: {self.perimeter():.2f}\")\n",
    "            print(f\"→ Diện tích: {self.area():.2f}\")\n",
    "        else:\n",
    "            print(\" Tam giác không hợp lệ.\")\n",
    "\n",
    "\n",
    "\n",
    "class RightTriangle(Triangle):\n",
    "    def __init__(self, a, b):\n",
    "        \"\"\"Tam giác vuông với 2 cạnh góc vuông a, b\"\"\"\n",
    "        c = math.sqrt(a**2 + b**2)\n",
    "        super().__init__(a, b, c)\n",
    "\n",
    "    def display(self):\n",
    "        print(\" Tam giác vuông:\")\n",
    "        super().display()\n",
    "\n",
    "\n",
    "class IsoscelesTriangle(Triangle):\n",
    "    def __init__(self, a, b):\n",
    "        \"\"\"Tam giác cân với hai cạnh bên bằng a và cạnh đáy b\"\"\"\n",
    "        super().__init__(a, a, b)\n",
    "\n",
    "    def display(self):\n",
    "        print(\" Tam giác cân:\")\n",
    "        super().display()\n",
    "\n",
    "\n",
    "\n",
    "class EquilateralTriangle(IsoscelesTriangle):\n",
    "    def __init__(self, a):\n",
    "        \"\"\"Tam giác đều có 3 cạnh bằng nhau\"\"\"\n",
    "        super().__init__(a, a)\n",
    "\n",
    "    def display(self):\n",
    "        print(\" Tam giác đều:\")\n",
    "        super().display()"
   ]
  },
  {
   "cell_type": "code",
   "execution_count": null,
   "id": "dd52206a",
   "metadata": {},
   "outputs": [
    {
     "name": "stdout",
     "output_type": "stream",
     "text": [
      "=== Tam giác chung ===\n",
      "Ba cạnh: a=3, b=4, c=5\n",
      "→ Chu vi: 12.00\n",
      "→ Diện tích: 6.00\n",
      "\n",
      "=== Tam giác vuông ===\n",
      " Tam giác vuông:\n",
      "Ba cạnh: a=3, b=4, c=5.0\n",
      "→ Chu vi: 12.00\n",
      "→ Diện tích: 6.00\n",
      "\n",
      "=== Tam giác cân ===\n",
      " Tam giác cân:\n",
      "Ba cạnh: a=5, b=5, c=6\n",
      "→ Chu vi: 16.00\n",
      "→ Diện tích: 12.00\n",
      "\n",
      "=== Tam giác đều ===\n",
      " Tam giác đều:\n",
      " Tam giác cân:\n",
      "Ba cạnh: a=4, b=4, c=4\n",
      "→ Chu vi: 12.00\n",
      "→ Diện tích: 6.93\n"
     ]
    }
   ],
   "source": [
    "if __name__ == \"__main__\":\n",
    "    print(\"=== Tam giác chung ===\")\n",
    "    tg = Triangle(3, 4, 5)\n",
    "    tg.display()\n",
    "\n",
    "    print(\"\\n=== Tam giác vuông ===\")\n",
    "    rt = RightTriangle(3, 4,)\n",
    "    rt.display()\n",
    "\n",
    "    print(\"\\n=== Tam giác cân ===\")\n",
    "    it = IsoscelesTriangle(5, 6)\n",
    "    it.display()\n",
    "\n",
    "    print(\"\\n=== Tam giác đều ===\")\n",
    "    et = EquilateralTriangle(4)\n",
    "    et.display()"
   ]
  }
 ],
 "metadata": {
  "kernelspec": {
   "display_name": "Python 3",
   "language": "python",
   "name": "python3"
  },
  "language_info": {
   "codemirror_mode": {
    "name": "ipython",
    "version": 3
   },
   "file_extension": ".py",
   "mimetype": "text/x-python",
   "name": "python",
   "nbconvert_exporter": "python",
   "pygments_lexer": "ipython3",
   "version": "3.13.0"
  }
 },
 "nbformat": 4,
 "nbformat_minor": 5
}
